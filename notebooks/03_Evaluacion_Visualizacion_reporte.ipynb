{
 "cells": [
  {
   "cell_type": "markdown",
   "id": "312e4f4e",
   "metadata": {},
   "source": [
    "# 03_Evaluación_Visualización_Reporte\n",
    "\n",
    "**Proyecto:** MLY0100.\n",
    "**Integrantes:** Antonio Sepulveda  \n",
    "\n"
   ]
  },
  {
   "cell_type": "markdown",
   "id": "1f6e2a19",
   "metadata": {},
   "source": [
    "## 1. Introducción\n",
    "\n",
    "Este notebook tiene como objetivo analizar el rendimiento del modelo de clasificación aplicado sobre el dataset de **diabetes**.  \n",
    "Se utilizaron las etapas del pipeline **Kedro** para limpieza, modelado, evaluación y visualización de resultados.\n"
   ]
  },
  {
   "cell_type": "markdown",
   "id": "b86ac61f",
   "metadata": {},
   "source": [
    "# 📚 2. Importación de librerías"
   ]
  },
  {
   "cell_type": "code",
   "execution_count": null,
   "id": "9c9db226",
   "metadata": {},
   "outputs": [],
   "source": [
    "import pandas as pd\n",
    "import matplotlib.pyplot as plt\n",
    "import seaborn as sns\n",
    "from IPython.display import Image, display\n"
   ]
  },
  {
   "cell_type": "markdown",
   "id": "cf4d3ea5",
   "metadata": {},
   "source": [
    "## 3. Carga de resultados\n",
    "\n",
    "Se cargan las métricas generadas por el pipeline Kedro desde la carpeta **data/08_reporting**.\n"
   ]
  },
  {
   "cell_type": "code",
   "execution_count": null,
   "id": "8f7c24b8",
   "metadata": {},
   "outputs": [],
   "source": [
    "results_path = \"../data/08_reporting/diabetes_evaluation_results.csv\"\n",
    "df_results = pd.read_csv(results_path)\n",
    "print(\"📄 Resultados cargados correctamente:\\n\")\n",
    "display(df_results)\n"
   ]
  },
  {
   "cell_type": "markdown",
   "id": "ae4213be",
   "metadata": {},
   "source": [
    "## 4. Visualización de métricas\n",
    "\n",
    "A continuación se grafican las métricas principales del modelo, tales como **accuracy**, **mse**, **precision** y **recall**.\n"
   ]
  },
  {
   "cell_type": "code",
   "execution_count": null,
   "id": "eed9ed4b",
   "metadata": {},
   "outputs": [],
   "source": [
    "plt.figure(figsize=(8, 5))\n",
    "sns.barplot(data=df_results)\n",
    "plt.title(\"Métricas del modelo de Diabetes\", fontsize=14, weight='bold')\n",
    "plt.xlabel(\"Métricas\")\n",
    "plt.ylabel(\"Valores\")\n",
    "plt.xticks(rotation=45)\n",
    "plt.tight_layout()\n",
    "plt.show()"
   ]
  },
  {
   "cell_type": "markdown",
   "id": "62d3261b",
   "metadata": {},
   "source": [
    "## 5. Visualizaciones generadas por Kedro\n",
    "\n",
    "Se incluyen las imágenes creadas automáticamente por el pipeline:  \n",
    "- Matriz de confusión  \n",
    "- Gráfico de resumen de métricas  \n",
    "Estas imágenes se encuentran en la carpeta `data/08_reporting/`.\n"
   ]
  },
  {
   "cell_type": "code",
   "execution_count": null,
   "id": "6f6f7756",
   "metadata": {},
   "outputs": [],
   "source": [
    "print(\"\\n📊 Matriz de confusión generada por Kedro:\")\n",
    "display(Image(\"../data/08_reporting/confusion_matrix_diabetes.png\"))\n",
    "\n",
    "print(\"\\n📊 Resumen de métricas gráficas:\")\n",
    "display(Image(\"../data/08_reporting/metrics_diabetes.png\"))"
   ]
  },
  {
   "cell_type": "markdown",
   "id": "6e13bd58",
   "metadata": {},
   "source": [
    "## 6. Interpretación de resultados\n",
    "\n",
    "En esta sección se analizan los resultados obtenidos por el modelo Random Forest entrenado en el pipeline `diabetes`.\n"
   ]
  },
  {
   "cell_type": "code",
   "execution_count": null,
   "id": "9c832b7b",
   "metadata": {},
   "outputs": [
    {
     "ename": "",
     "evalue": "",
     "output_type": "error",
     "traceback": [
      "\u001b[1;31mRunning cells with '.venv (3.13.7) (Python 3.13.7)' requires the ipykernel package.\n",
      "\u001b[1;31mInstall 'ipykernel' into the Python environment. \n",
      "\u001b[1;31mCommand: '\"c:/Users/goku8/OneDrive/Escritorio/MCHL - copiaaaaa/MLY0100-Parcial-1/.venv/Scripts/python.exe\" -m pip install ipykernel -U --force-reinstall'"
     ]
    }
   ],
   "source": [
    "print(\"\\n🔍 Interpretación de resultados:\\n\")\n",
    "print(\"- Exactitud (Accuracy): 0.8594 → El modelo clasifica correctamente el 85.9% de los casos.\")\n",
    "print(\"- Error Cuadrático Medio (MSE): 0.1406 → Indica un bajo nivel de error en la predicción.\")\n",
    "print(\"- Precision y Recall: muestran un equilibrio entre falsos positivos y negativos.\\n\")\n",
    "print(\"El modelo RandomForestClassifier demuestra un rendimiento alto y estable para predecir la presencia de diabetes.\")"
   ]
  }
 ],
 "metadata": {
  "kernelspec": {
   "display_name": ".venv (3.13.7)",
   "language": "python",
   "name": "python3"
  },
  "language_info": {
   "name": "python",
   "version": "3.13.7"
  }
 },
 "nbformat": 4,
 "nbformat_minor": 5
}
