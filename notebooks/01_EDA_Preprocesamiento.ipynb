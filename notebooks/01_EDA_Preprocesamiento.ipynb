{
 "cells": [
  {
   "cell_type": "markdown",
   "id": "70efcb42",
   "metadata": {},
   "source": [
    "# Proyecto Parcial 1 - MLY0100\n",
    "**Tema:** Predicción y Clasificación de Gasto de Clientes en un Supermercado  \n",
    "**Integrantes:** Antonio Sepúlveda.\n",
    "**Fecha:** 16/09/2025\n"
   ]
  },
  {
   "cell_type": "markdown",
   "id": "ff4e73b1",
   "metadata": {},
   "source": [
    "# Entendimiento del Negocio\n",
    "\n",
    "El objetivo de este análisis es segmentar a los clientes de una empresa minorista utilizando el dataset \"Customer Personality Analysis\" de Kaggle. Esto permitirá identificar patrones de comportamiento y características clave para mejorar estrategias de marketing y personalización de servicios.\n",
    "\n",
    "**Caso real:**  \n",
    "Las empresas minoristas buscan comprender mejor a sus clientes para ofrecer productos y promociones personalizadas, optimizando así la satisfacción y la rentabilidad."
   ]
  },
  {
   "cell_type": "markdown",
   "id": "10059552",
   "metadata": {},
   "source": [
    "- El dataset contiene información demográfica, económica y de comportamiento de compra de los clientes.(codigo #1)\n",
    "- Número de filas y columnas(codigo #2)"
   ]
  },
  {
   "cell_type": "code",
   "execution_count": null,
   "id": "839963db",
   "metadata": {},
   "outputs": [],
   "source": [
    "#Codigo #1\n",
    "# Análisis exploratorio de datos y preprocesamiento\n",
    "\n",
    "import pandas as pd\n",
    "\n",
    "# Cargar datos\n",
    "df = pd.read_csv('../data/marketing_campaign.csv', sep='\\t')\n",
    "\n",
    "# Mostrar primeras filas\n",
    "df.head()"
   ]
  },
  {
   "cell_type": "code",
   "execution_count": null,
   "id": "084a954a",
   "metadata": {},
   "outputs": [],
   "source": [
    "#codigo #2\n",
    "# Número de filas y columnas\n",
    "print(f\"Filas: {df.shape[0]}, Columnas: {df.shape[1]}\")\n",
    "df.info()"
   ]
  },
  {
   "cell_type": "markdown",
   "id": "6da5e0f9",
   "metadata": {},
   "source": [
    "Aquí observamos la media, mediana, desviación estándar, valores mínimos y máximos de cada variable numérica."
   ]
  },
  {
   "cell_type": "code",
   "execution_count": null,
   "id": "b26e8ba9",
   "metadata": {},
   "outputs": [],
   "source": [
    "# Estadísticas descriptivas de variables numéricas\n",
    "df.describe()"
   ]
  },
  {
   "cell_type": "markdown",
   "id": "db85ae48",
   "metadata": {},
   "source": [
    "Visualización de Distribuciones\n",
    "\n",
    "Los histogramas muestran la frecuencia de los valores en cada variable. Así identificamos si hay sesgos o valores extremos."
   ]
  },
  {
   "cell_type": "code",
   "execution_count": null,
   "id": "a5b728cd",
   "metadata": {},
   "outputs": [],
   "source": [
    "import matplotlib.pyplot as plt\n",
    "import seaborn as sns\n",
    "\n",
    "# Histograma de variables numéricas principales\n",
    "df.hist(figsize=(15,10), bins=20)\n",
    "plt.tight_layout()\n",
    "plt.show()"
   ]
  },
  {
   "cell_type": "markdown",
   "id": "fb11bc9d",
   "metadata": {},
   "source": [
    "Correlación entre Variables para ver qué variables numéricas están relacionadas entre sí.\n",
    "\n",
    "El mapa de calor muestra la fuerza de la relación entre variables numéricas. Valores cercanos a 1 o -1 indican alta correlación."
   ]
  },
  {
   "cell_type": "code",
   "execution_count": null,
   "id": "08939ce2",
   "metadata": {},
   "outputs": [],
   "source": [
    "# Mapa de calor de correlación\n",
    "plt.figure(figsize=(25,20))\n",
    "sns.heatmap(df.corr(numeric_only=True), annot=True, cmap='coolwarm')\n",
    "plt.title('Matriz de correlación')\n",
    "plt.show()"
   ]
  },
  {
   "cell_type": "markdown",
   "id": "f1cae427",
   "metadata": {},
   "source": [
    "Distribución de Variables Categóricas para ver la cantidad de observaciones en cada categoría.\n",
    "\n",
    "Así visualizamos el balance de las categorías principales."
   ]
  },
  {
   "cell_type": "code",
   "execution_count": null,
   "id": "6bb5c8b5",
   "metadata": {},
   "outputs": [],
   "source": [
    "# Conteo de categorías en Education y Marital_Status\n",
    "print(df['Education'].value_counts())\n",
    "print(df['Marital_Status'].value_counts())\n",
    "\n",
    "# Gráficos de barras\n",
    "fig, axes = plt.subplots(1, 2, figsize=(12,5))\n",
    "sns.countplot(data=df, x='Education', ax=axes[0])\n",
    "axes[0].set_title('Distribución de Education')\n",
    "sns.countplot(data=df, x='Marital_Status', ax=axes[1])\n",
    "axes[1].set_title('Distribución de Marital_Status')\n",
    "plt.tight_layout()\n",
    "plt.show()"
   ]
  },
  {
   "cell_type": "markdown",
   "id": "5eb9543d",
   "metadata": {},
   "source": [
    "Revisión y tratamiento de valores faltantes.\n",
    "Los valores faltantes pueden afectar el análisis y los modelos. Debes identificarlos y decidir cómo tratarlos.\n",
    "\n",
    "Aquí identificamos columnas con valores faltantes. Si hay pocos, podemos eliminarlos; si son muchos, podemos imputar (rellenar) con la media, mediana o moda según el tipo de variable."
   ]
  },
  {
   "cell_type": "code",
   "execution_count": null,
   "id": "be0f7ccc",
   "metadata": {},
   "outputs": [],
   "source": [
    "# Ver cuántos valores faltantes hay por columna\n",
    "df.isnull().sum()"
   ]
  },
  {
   "cell_type": "markdown",
   "id": "10bc1f27",
   "metadata": {},
   "source": [
    "Limpieza de variables categóricas (errores y rarezas).\n",
    "Algunas categorías como \"YOLO\", \"Absurd\" o \"Alone\" no son válidas o son muy raras.\n",
    "\n",
    "Agrupamos categorías raras en \"Other\" para evitar que afecten el análisis."
   ]
  },
  {
   "cell_type": "code",
   "execution_count": null,
   "id": "cc3c304b",
   "metadata": {},
   "outputs": [],
   "source": [
    "# Revisar valores únicos\n",
    "print(df['Education'].unique())\n",
    "print(df['Marital_Status'].unique())\n",
    "\n",
    "# Reemplazar o agrupar valores raros\n",
    "df['Education'] = df['Education'].replace({'2n Cycle': '2nd Cycle'})\n",
    "df['Marital_Status'] = df['Marital_Status'].replace(\n",
    "    {'Absurd': 'Other', 'YOLO': 'Other', 'Alone': 'Other'}\n",
    ")"
   ]
  },
  {
   "cell_type": "markdown",
   "id": "d8befaf9",
   "metadata": {},
   "source": [
    "Detección y tratamiento de outliers. \n",
    "Los valores extremos pueden distorsionar el análisis y los modelos.\n",
    "\n",
    "Detectamos outliers en variables numéricas importantes y los eliminamos para evitar distorsiones.\n",
    "\n",
    " (WRNNG: no ejecutar para conservar toda la info)"
   ]
  },
  {
   "cell_type": "code",
   "execution_count": null,
   "id": "9c674681",
   "metadata": {},
   "outputs": [],
   "source": [
    "import numpy as np\n",
    "\n",
    "# Ejemplo: detectar outliers en Income usando IQR\n",
    "Q1 = df['Income'].quantile(0.25)\n",
    "Q3 = df['Income'].quantile(0.75)\n",
    "IQR = Q3 - Q1\n",
    "outliers = df[(df['Income'] < (Q1 - 1.5 * IQR)) | (df['Income'] > (Q3 + 1.5 * IQR))]\n",
    "print(f\"Outliers en Income: {outliers.shape[0]}\")\n",
    "\n",
    "# Puedes eliminar o ajustar estos valores según el contexto\n",
    "# Ejemplo: eliminar outliers\n",
    "df = df[~((df['Income'] < (Q1 - 1.5 * IQR)) | (df['Income'] > (Q3 + 1.5 * IQR)))]"
   ]
  },
  {
   "cell_type": "markdown",
   "id": "ae792f03",
   "metadata": {},
   "source": [
    "Selección de variables relevantes. No todas las variables aportan valor. Elimina las que no sean útiles (por ejemplo, ID).\n",
    "\n",
    "Eliminamos identificadores y variables irrelevantes para el análisis.\n",
    "\n",
    "(WRNNG: no ejecutar para conservar toda la info)"
   ]
  },
  {
   "cell_type": "code",
   "execution_count": 27,
   "id": "9e8716b1",
   "metadata": {},
   "outputs": [],
   "source": [
    "# Eliminar columnas que no aportan al análisis\n",
    "df = df.drop(columns=['ID', 'Z_CostContact', 'Z_Revenue'])"
   ]
  },
  {
   "cell_type": "markdown",
   "id": "1adf0f94",
   "metadata": {},
   "source": [
    "Preprocesamiento\n",
    "1. Tratamiento de valores faltantes\n",
    "    - Si hay pocos valores faltantes en una columna, puedes eliminarlos (Codigo #1)\n",
    "    - Si hay muchos, puedes imputar (rellenar) con la media, mediana o moda: (Codigo #2)\n",
    "\n",
    "\n",
    "Se revisan los valores faltantes y se decide la estrategia según la cantidad y relevancia de los datos"
   ]
  },
  {
   "cell_type": "code",
   "execution_count": null,
   "id": "2f00f772",
   "metadata": {},
   "outputs": [],
   "source": [
    "# Revisar valores faltantes por columna\n",
    "df.isnull().sum()"
   ]
  },
  {
   "cell_type": "code",
   "execution_count": null,
   "id": "f4bfb113",
   "metadata": {},
   "outputs": [],
   "source": [
    "#Codigo #1: eliminar filas con valores faltantes en columnas críticas\n",
    "df = df.dropna(subset=['NombreColumna'])"
   ]
  },
  {
   "cell_type": "code",
   "execution_count": null,
   "id": "67039fc1",
   "metadata": {},
   "outputs": [],
   "source": [
    "#Codigo #2: imputar valores faltantes con la media, mediana o moda\n",
    "df['Income'] = df['Income'].fillna(df['Income'].median())"
   ]
  },
  {
   "cell_type": "markdown",
   "id": "04e0b3af",
   "metadata": {},
   "source": [
    "2. Limpieza de variables categóricas\n",
    "\n",
    "\n",
    "\n",
    "Las variables categóricas pueden tener errores de captura, valores raros o inconsistentes. Es importante agrupar o corregir estos valores para evitar problemas en el análisis y modelado.\n",
    "\n",
    "Se revisaron y corrigieron valores raros o errores de captura en las variables categóricas. Las categorías poco frecuentes o incorrectas se agruparon bajo \"Other\" para evitar que afecten el análisis."
   ]
  },
  {
   "cell_type": "code",
   "execution_count": null,
   "id": "bde828d3",
   "metadata": {},
   "outputs": [],
   "source": [
    "# Ver los valores únicos de las variables categóricas principales\n",
    "print(\"Valores únicos en Education:\", df['Education'].unique())\n",
    "print(\"Valores únicos en Marital_Status:\", df['Marital_Status'].unique())\n",
    "\n",
    "# Corregir errores de escritura y agrupar valores raros\n",
    "df['Education'] = df['Education'].replace({'2n Cycle': '2nd Cycle'})\n",
    "df['Marital_Status'] = df['Marital_Status'].replace({\n",
    "    'Absurd': 'Other',\n",
    "    'YOLO': 'Other',\n",
    "    'Alone': 'Other'\n",
    "})\n",
    "\n",
    "# Verifica los cambios\n",
    "print(\"Valores únicos corregidos en Education:\", df['Education'].unique())\n",
    "print(\"Valores únicos corregidos en Marital_Status:\", df['Marital_Status'].unique())"
   ]
  },
  {
   "cell_type": "markdown",
   "id": "88f8cf11",
   "metadata": {},
   "source": [
    "3. Detección y tratamiento de outliers\n",
    "\n",
    "Los outliers (valores extremos) pueden distorsionar los resultados de los modelos y análisis estadísticos. Es importante detectarlos y decidir si se eliminan, se corrigen o simplemente se reportan.\n",
    "\n",
    "Se detectaron outliers en la variable Income utilizando el método del rango intercuartílico (IQR). Por el momento, no se eliminan para conservar la información completa, pero se reporta su cantidad y se visualizan con un boxplot."
   ]
  },
  {
   "cell_type": "code",
   "execution_count": null,
   "id": "a14f548b",
   "metadata": {},
   "outputs": [],
   "source": [
    "# Detección de outliers en la variable Income usando el método IQR\n",
    "Q1 = df['Income'].quantile(0.25)\n",
    "Q3 = df['Income'].quantile(0.75)\n",
    "IQR = Q3 - Q1\n",
    "\n",
    "# Definir límites para outliers\n",
    "lower_bound = Q1 - 1.5 * IQR\n",
    "upper_bound = Q3 + 1.5 * IQR\n",
    "\n",
    "# Identificar outliers\n",
    "outliers = df[(df['Income'] < lower_bound) | (df['Income'] > upper_bound)]\n",
    "print(f\"Número de outliers en Income: {outliers.shape[0]}\")\n",
    "\n",
    "# (Opcional) Visualizar los outliers\n",
    "import matplotlib.pyplot as plt\n",
    "plt.figure(figsize=(8,4))\n",
    "plt.boxplot(df['Income'].dropna())\n",
    "plt.title('Boxplot de Income')\n",
    "plt.show()"
   ]
  },
  {
   "cell_type": "markdown",
   "id": "0fd33226",
   "metadata": {},
   "source": [
    "4. Encoding de variables categóricas\n",
    "\n",
    "\n",
    "Los modelos de machine learning requieren variables numéricas. El encoding convierte variables categóricas en variables numéricas (por ejemplo, usando one-hot encoding).\n",
    "\n",
    "Se aplicó one-hot encoding a las variables categóricas Education y Marital_Status para convertirlas en variables numéricas, facilitando su uso en modelos de machine learning."
   ]
  },
  {
   "cell_type": "code",
   "execution_count": null,
   "id": "389e67ed",
   "metadata": {},
   "outputs": [],
   "source": [
    "# Aplicar one-hot encoding a las variables categóricas principales\n",
    "df_encoded = pd.get_dummies(df, columns=['Education', 'Marital_Status'], drop_first=True)\n",
    "\n",
    "# Verifica el resultado\n",
    "df_encoded.head()"
   ]
  },
  {
   "cell_type": "markdown",
   "id": "01239c43",
   "metadata": {},
   "source": [
    "5. Escalamiento de variables numéricas\n",
    "\n",
    "El escalamiento pone todas las variables numéricas en la misma escala, lo que es importante para muchos algoritmos de machine learning.\n",
    "\n",
    "Se aplicó escalamiento estándar (media 0, desviación estándar 1) a las variables numéricas principales para mejorar el desempeño de los modelos y evitar que variables con mayor rango dominen el análisis."
   ]
  },
  {
   "cell_type": "code",
   "execution_count": null,
   "id": "e6d51fb0",
   "metadata": {},
   "outputs": [],
   "source": [
    "# Escalamiento de variables numéricasඞ\n",
    "\n",
    "from sklearn.preprocessing import StandardScaler\n",
    "\n",
    "# Asegúrate de que df_encoded esté definido\n",
    "df_encoded = pd.get_dummies(df, columns=['Education', 'Marital_Status'], drop_first=True)\n",
    "\n",
    "# Selecciona las columnas numéricas a escalar\n",
    "cols_to_scale = [\n",
    "    'Income', 'Recency', 'MntWines', 'MntFruits', 'MntMeatProducts', 'MntFishProducts',\n",
    "    'MntSweetProducts', 'MntGoldProds', 'NumDealsPurchases', 'NumWebPurchases',\n",
    "    'NumCatalogPurchases', 'NumStorePurchases', 'NumWebVisitsMonth'\n",
    "]\n",
    "\n",
    "# Aplica el escalador\n",
    "scaler = StandardScaler()\n",
    "df_encoded[cols_to_scale] = scaler.fit_transform(df_encoded[cols_to_scale])\n",
    "\n",
    "# Verifica el resultado\n",
    "df_encoded[cols_to_scale].describe()"
   ]
  },
  {
   "cell_type": "code",
   "execution_count": 53,
   "id": "f284800a",
   "metadata": {},
   "outputs": [],
   "source": [
    "#  (01_EDA_Preprocesamiento.ipynb)\n",
    "df_encoded.to_csv('../data/df_encoded.csv', index=False)"
   ]
  }
 ],
 "metadata": {
  "kernelspec": {
   "display_name": ".venv (3.13.7)",
   "language": "python",
   "name": "python3"
  },
  "language_info": {
   "codemirror_mode": {
    "name": "ipython",
    "version": 3
   },
   "file_extension": ".py",
   "mimetype": "text/x-python",
   "name": "python",
   "nbconvert_exporter": "python",
   "pygments_lexer": "ipython3",
   "version": "3.13.7"
  }
 },
 "nbformat": 4,
 "nbformat_minor": 5
}
