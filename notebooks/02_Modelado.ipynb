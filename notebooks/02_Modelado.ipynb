{
 "cells": [
  {
   "cell_type": "markdown",
   "id": "6a0e601d",
   "metadata": {},
   "source": [
    "# 02_Modelado - MLY0100\n",
    "\n",
    "**Tema:** Predicción y Clasificación de Gasto de Clientes en un Supermercado  \n",
    "**Integrantes:** Antonio Sepúlveda  \n",
    "**Fecha:** 16/09/2025"
   ]
  },
  {
   "cell_type": "markdown",
   "id": "93f97625",
   "metadata": {},
   "source": [
    "## 1. Introducción\n",
    "\n",
    "En este notebook se realizará el modelado y análisis avanzado utilizando los datos preprocesados en el notebook anterior. Se explorarán técnicas de clustering y/o clasificación para segmentar clientes y predecir comportamientos relevantes."
   ]
  },
  {
   "cell_type": "markdown",
   "id": "91286e09",
   "metadata": {},
   "source": [
    "## 2. Carga de datos preprocesados\n",
    "\n",
    "Se cargan los datos preprocesados generados en el análisis exploratorio. Si guardaste el DataFrame como archivo, se lee desde disco; si no, puedes copiar el preprocesamiento aquí o importar desde el notebook anterior."
   ]
  },
  {
   "cell_type": "code",
   "execution_count": null,
   "id": "3fd49acf",
   "metadata": {},
   "outputs": [],
   "source": [
    "import pandas as pd\n",
    "\n",
    "# Cargar el DataFrame preprocesado desde archivo CSV\n",
    "df_encoded = pd.read_csv('../data/df_encoded.csv')\n",
    "\n",
    "# Verifica la carga\n",
    "print(df_encoded.shape)\n",
    "df_encoded.head()"
   ]
  },
  {
   "cell_type": "markdown",
   "id": "932195fd",
   "metadata": {},
   "source": [
    "## 3. Selección de variables y definición del objetivo\n",
    "\n",
    "Selecciona las variables que usarás para el modelado. Si vas a hacer clustering, puedes usar todas las variables relevantes. Si vas a hacer clasificación, define la variable objetivo (`y`) y las variables predictoras (`X`)."
   ]
  },
  {
   "cell_type": "code",
   "execution_count": null,
   "id": "7ef79f28",
   "metadata": {},
   "outputs": [],
   "source": [
    "# Para clustering, puedes usar todas las columnas numéricas y codificadas\n",
    "X_clustering = df_encoded.copy()\n"
   ]
  },
  {
   "cell_type": "markdown",
   "id": "149bbaf4",
   "metadata": {},
   "source": [
    "## 4. Modelado\n",
    "\n",
    "A continuación, se presentan ejemplos de modelado para clustering y clasificación."
   ]
  },
  {
   "cell_type": "markdown",
   "id": "50f14c0c",
   "metadata": {},
   "source": [
    "### 4.1 Clustering (Ejemplo con KMeans)\n",
    "\n",
    "Se utiliza el algoritmo KMeans para segmentar a los clientes en grupos similares según sus características."
   ]
  },
  {
   "cell_type": "code",
   "execution_count": null,
   "id": "bee15e1b",
   "metadata": {},
   "outputs": [],
   "source": [
    "import pandas as pd\n",
    "from sklearn.cluster import KMeans\n",
    "\n",
    "# Cargar el DataFrame preprocesado\n",
    "df_encoded = pd.read_csv('../data/df_encoded.csv')\n",
    "\n",
    "# Ajustar modelo de clustering\n",
    "kmeans = KMeans(n_clusters=3, random_state=42)\n",
    "clusters = kmeans.fit_predict(X_clustering)\n",
    "\n",
    "# Agregar los clusters al DataFrame\n",
    "df_encoded['Cluster'] = clusters\n",
    "print(df_encoded['Cluster'].value_counts())"
   ]
  },
  {
   "cell_type": "markdown",
   "id": "3dbd14a9",
   "metadata": {},
   "source": [
    "### 4.2 Clasificación (Ejemplo con RandomForest)\n",
    "\n",
    "Se utiliza un clasificador RandomForest para predecir la variable objetivo a partir de las variables seleccionadas."
   ]
  },
  {
   "cell_type": "code",
   "execution_count": null,
   "id": "4db0beef",
   "metadata": {},
   "outputs": [],
   "source": [
    "from sklearn.model_selection import train_test_split\n",
    "from sklearn.ensemble import RandomForestClassifier\n",
    "from sklearn.metrics import classification_report\n",
    "\n",
    "# X = df_encoded.drop(['NombreVariableObjetivo'], axis=1)\n",
    "# y = df_encoded['NombreVariableObjetivo']\n",
    "\n",
    "# X_train, X_test, y_train, y_test = train_test_split(X, y, test_size=0.2, random_state=42)\n",
    "\n",
    "# clf = RandomForestClassifier(random_state=42)\n",
    "# clf.fit(X_train, y_train)\n",
    "# y_pred = clf.predict(X_test)\n",
    "\n",
    "# print(classification_report(y_test, y_pred))"
   ]
  },
  {
   "cell_type": "markdown",
   "id": "cd48bba4",
   "metadata": {},
   "source": [
    "## 5. Interpretación de resultados\n",
    "\n",
    "Describe los hallazgos principales del modelado, la interpretación de los clusters o la importancia de las variables en la clasificación. Por ejemplo, ¿qué características distinguen a cada grupo?, ¿qué tan bien predice el modelo la variable objetivo?"
   ]
  }
 ],
 "metadata": {
  "kernelspec": {
   "display_name": ".venv (3.13.7)",
   "language": "python",
   "name": "python3"
  },
  "language_info": {
   "codemirror_mode": {
    "name": "ipython",
    "version": 3
   },
   "file_extension": ".py",
   "mimetype": "text/x-python",
   "name": "python",
   "nbconvert_exporter": "python",
   "pygments_lexer": "ipython3",
   "version": "3.13.7"
  }
 },
 "nbformat": 4,
 "nbformat_minor": 5
}
